{
  "nbformat": 4,
  "nbformat_minor": 0,
  "metadata": {
    "colab": {
      "provenance": [],
      "authorship_tag": "ABX9TyOodgD8433vB3Qz4KgbXL0H",
      "include_colab_link": true
    },
    "kernelspec": {
      "name": "python3",
      "display_name": "Python 3"
    },
    "language_info": {
      "name": "python"
    }
  },
  "cells": [
    {
      "cell_type": "markdown",
      "metadata": {
        "id": "view-in-github",
        "colab_type": "text"
      },
      "source": [
        "<a href=\"https://colab.research.google.com/github/TheerapornP/Tools-for-Statistical-Data-Science/blob/main/Assignment_0_Deep_dive_with_python_coding.ipynb\" target=\"_parent\"><img src=\"https://colab.research.google.com/assets/colab-badge.svg\" alt=\"Open In Colab\"/></a>"
      ]
    },
    {
      "cell_type": "markdown",
      "source": [
        "# **Assignment 0: Deep dive with python coding**\n",
        "\n",
        "1.Consider a sequence of n Bernoulli trials with success probabilty p per trial. A string of consecutive successes is known as a success run. Write a function that returns the counts for runs of length k for each k observed in a dictionary.\n",
        "\n",
        "Expected Result:\n",
        "\n",
        "count_runs([0, 1, 0, 1, 1, 0, 0, 0, 0, 1],)\n",
        "\n",
        "Counter({1: 2, 2: 1})\n",
        "\n",
        "or\n",
        "\n",
        "count_runs(np.random.randint(0,2,1000000))\n",
        "\n",
        "Counter({1: 124950,\n",
        "\n",
        "2: 62561,\n",
        "\n",
        "3: 31402,\n",
        "\n",
        "4: 15482,\n",
        "\n",
        "5: 7865,\n",
        "\n",
        "6: 3856,\n",
        "\n",
        "7: 1968,\n",
        "\n",
        "8: 971,\n",
        "\n",
        "9: 495,\n",
        "\n",
        "10: 233,\n",
        "\n",
        "11: 140,\n",
        "\n",
        "12: 71,\n",
        "\n",
        "13: 32,\n",
        "\n",
        "14: 13,\n",
        "\n",
        "15: 9,\n",
        "\n",
        "16: 3})"
      ],
      "metadata": {
        "id": "PJ4DncWLYnbz"
      }
    },
    {
      "cell_type": "code",
      "execution_count": null,
      "metadata": {
        "colab": {
          "base_uri": "https://localhost:8080/"
        },
        "id": "UzHEES1OqhAL",
        "outputId": "62ae5d99-c592-435a-a260-c042f2575685"
      },
      "outputs": [
        {
          "output_type": "stream",
          "name": "stdout",
          "text": [
            "Counter({1: 2, 2: 1})\n"
          ]
        }
      ],
      "source": [
        "from collections import Counter\n",
        "\n",
        "def count_runs(sequence):\n",
        "    runs = []\n",
        "    current_run = 0\n",
        "\n",
        "    for value in sequence:\n",
        "        if value == 1:\n",
        "            current_run =  current_run+1\n",
        "        elif current_run > 0:\n",
        "            runs.append(current_run)\n",
        "            current_run = 0\n",
        "\n",
        "    # check ตัวสุดท้าย\n",
        "    if current_run > 0:\n",
        "        runs.append(current_run)\n",
        "\n",
        "    return Counter(runs)\n",
        "\n",
        "\n",
        "result = count_runs([0, 1, 0, 1, 1, 0, 0, 0, 0, 1])\n",
        "print(result)\n",
        "\n"
      ]
    },
    {
      "cell_type": "code",
      "source": [
        "import numpy as np\n",
        "\n",
        "result2 = count_runs(np.random.randint(0,2,1000000))\n",
        "print(result2)"
      ],
      "metadata": {
        "colab": {
          "base_uri": "https://localhost:8080/"
        },
        "id": "Fa6kOsdgXT9F",
        "outputId": "cef4299c-d505-497b-b058-1b80a75a49e5"
      },
      "execution_count": null,
      "outputs": [
        {
          "output_type": "stream",
          "name": "stdout",
          "text": [
            "Counter({1: 125183, 2: 62750, 3: 31244, 4: 15610, 5: 7678, 6: 3933, 7: 1964, 8: 1001, 9: 496, 10: 227, 11: 124, 12: 62, 14: 15, 13: 14, 15: 6, 16: 5, 17: 1})\n"
          ]
        }
      ]
    },
    {
      "cell_type": "markdown",
      "source": [
        "2.Continuing from Part 1, what is the probability of observing at least one run of length 5 or more when n=100 and p=0.5?. Estimate this from 100,000 simulated experiments. Is this more, less or equally likely than finding runs of length 7 or more when p=0.7 ?\n",
        "\n",
        "Expected Result\n",
        "\n",
        "run_prob(expts=100000, n=100, k=5, p=0.5)\n",
        "\n",
        "0.80704\n",
        "\n",
        "run_prob(expts=100000, n=100, k=7, p=0.7)\n",
        "\n",
        "0.94881"
      ],
      "metadata": {
        "id": "x663VfIcY--Y"
      }
    },
    {
      "cell_type": "code",
      "source": [
        "import numpy as np\n",
        "\n",
        "def run_prob(expts, n, k, p):\n",
        "    # สร้างลำดับตัวเลขแบบสุ่มจากการเลือก 0 หรือ 1 โดยให้น้ำหนักตามความน่าจะเป็นของ \"1\" และ \"0\" ที่กำหนดใน p\n",
        "    xxs = np.random.choice([0, 1], size=(expts, n), p=[1-p, p])\n",
        "\n",
        "    # นับจำนวนลำดับที่มี run ความยาว k หรือมากกว่า\n",
        "    success_run_count = sum(max(count_runs(row).keys()) >= k for row in xxs)\n",
        "\n",
        "    # คำนวณความน่าจะเป็นตามสูตร: (จำนวน success runs ที่พบ) / (จำนวนการทดลองทั้งหมด)\n",
        "    probability = success_run_count / expts\n",
        "\n",
        "    return probability\n",
        "\n",
        "# ทดลองสำหรับ k=5, p=0.5\n",
        "result  = run_prob(expts=100000, n=100, k=5, p=0.5)\n",
        "print(result)\n",
        "\n",
        "\n",
        "# ทดลองสำหรับ k=7, p=0.7\n",
        "result2 = run_prob(expts=100000, n=100, k=7, p=0.7)\n",
        "print(result2)\n"
      ],
      "metadata": {
        "colab": {
          "base_uri": "https://localhost:8080/"
        },
        "id": "E9f123YDe-Jj",
        "outputId": "717583c4-1531-4374-bfc3-0a54948c4553"
      },
      "execution_count": null,
      "outputs": [
        {
          "output_type": "stream",
          "name": "stdout",
          "text": [
            "0.80952\n",
            "0.94955\n"
          ]
        }
      ]
    }
  ]
}
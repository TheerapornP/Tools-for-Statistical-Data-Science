{
  "nbformat": 4,
  "nbformat_minor": 0,
  "metadata": {
    "colab": {
      "provenance": [],
      "authorship_tag": "ABX9TyNmBpa1RFNGnZLO4yLxa0qt",
      "include_colab_link": true
    },
    "kernelspec": {
      "name": "python3",
      "display_name": "Python 3"
    },
    "language_info": {
      "name": "python"
    }
  },
  "cells": [
    {
      "cell_type": "markdown",
      "metadata": {
        "id": "view-in-github",
        "colab_type": "text"
      },
      "source": [
        "<a href=\"https://colab.research.google.com/github/TheerapornP/Tools-for-Statistical-Data-Science/blob/main/Assignment_0_Deep_dive_with_python_coding.ipynb\" target=\"_parent\"><img src=\"https://colab.research.google.com/assets/colab-badge.svg\" alt=\"Open In Colab\"/></a>"
      ]
    },
    {
      "cell_type": "markdown",
      "source": [
        "# **Assignment 0: Deep dive with python coding**\n",
        "\n",
        "1.Consider a sequence of n Bernoulli trials with success probabilty p per trial. A string of consecutive successes is known as a success run. Write a function that returns the counts for runs of length k for each k observed in a dictionary.\n",
        "\n",
        "Expected Result:\n",
        "\n",
        "count_runs([0, 1, 0, 1, 1, 0, 0, 0, 0, 1],)\n",
        "\n",
        "Counter({1: 2, 2: 1})\n",
        "\n",
        "or\n",
        "\n",
        "count_runs(np.random.randint(0,2,1000000))\n",
        "\n",
        "Counter({1: 124950,\n",
        "\n",
        "2: 62561,\n",
        "\n",
        "3: 31402,\n",
        "\n",
        "4: 15482,\n",
        "\n",
        "5: 7865,\n",
        "\n",
        "6: 3856,\n",
        "\n",
        "7: 1968,\n",
        "\n",
        "8: 971,\n",
        "\n",
        "9: 495,\n",
        "\n",
        "10: 233,\n",
        "\n",
        "11: 140,\n",
        "\n",
        "12: 71,\n",
        "\n",
        "13: 32,\n",
        "\n",
        "14: 13,\n",
        "\n",
        "15: 9,\n",
        "\n",
        "16: 3})"
      ],
      "metadata": {
        "id": "PJ4DncWLYnbz"
      }
    },
    {
      "cell_type": "code",
      "execution_count": 2,
      "metadata": {
        "colab": {
          "base_uri": "https://localhost:8080/"
        },
        "id": "UzHEES1OqhAL",
        "outputId": "f1c01e90-043c-459d-e78f-3f9c1a0cc05a"
      },
      "outputs": [
        {
          "output_type": "stream",
          "name": "stdout",
          "text": [
            "Counter({1: 2, 2: 1})\n"
          ]
        }
      ],
      "source": [
        "from collections import Counter\n",
        "\n",
        "def count_runs(sequence):\n",
        "    runs = []\n",
        "    current_run = 0\n",
        "\n",
        "    for value in sequence:\n",
        "        if value == 1:\n",
        "            current_run =  current_run+1\n",
        "        elif current_run > 0:\n",
        "            runs.append(current_run)\n",
        "            current_run = 0\n",
        "\n",
        "    # check ตัวสุดท้าย\n",
        "    if current_run > 0:\n",
        "        runs.append(current_run)\n",
        "\n",
        "    return Counter(runs)\n",
        "\n",
        "\n",
        "result = count_runs([0, 1, 0, 1, 1, 0, 0, 0, 0, 1])\n",
        "print(result)\n",
        "\n"
      ]
    },
    {
      "cell_type": "code",
      "source": [
        "import numpy as np\n",
        "\n",
        "result2 = count_runs(np.random.randint(0,2,1000000))\n",
        "print(result2)"
      ],
      "metadata": {
        "colab": {
          "base_uri": "https://localhost:8080/"
        },
        "id": "Fa6kOsdgXT9F",
        "outputId": "a6655339-f332-4037-c5ce-57b8f9209c4c"
      },
      "execution_count": 3,
      "outputs": [
        {
          "output_type": "stream",
          "name": "stdout",
          "text": [
            "Counter({1: 125025, 2: 62530, 3: 31123, 4: 15686, 5: 7806, 6: 3861, 7: 1944, 8: 967, 9: 431, 10: 236, 11: 136, 12: 67, 13: 28, 14: 16, 15: 7, 20: 2, 18: 1, 16: 1, 17: 1})\n"
          ]
        }
      ]
    },
    {
      "cell_type": "markdown",
      "source": [
        "2.Continuing from Part 1, what is the probability of observing at least one run of length 5 or more when n=100 and p=0.5?. Estimate this from 100,000 simulated experiments. Is this more, less or equally likely than finding runs of length 7 or more when p=0.7 ?\n",
        "\n",
        "Expected Result\n",
        "\n",
        "run_prob(expts=100000, n=100, k=5, p=0.5)\n",
        "\n",
        "0.80704\n",
        "\n",
        "run_prob(expts=100000, n=100, k=7, p=0.7)\n",
        "\n",
        "0.94881"
      ],
      "metadata": {
        "id": "x663VfIcY--Y"
      }
    },
    {
      "cell_type": "code",
      "source": [
        "import numpy as np\n",
        "\n",
        "def run_prob(expts, n, k, p):\n",
        "    random_sequences = np.random.choice([0, 1], size=(expts, n), p=[1-p, p])\n",
        "    success_run_count = 0\n",
        "\n",
        "    for row in random_sequences:\n",
        "        # หา run ทั้งหมดที่มีความยาว >= k\n",
        "        runs_lengths = count_runs(row).keys()\n",
        "        if any(length >= k for length in runs_lengths):\n",
        "            success_run_count += 1\n",
        "\n",
        "    probability = success_run_count / expts\n",
        "    return probability"
      ],
      "metadata": {
        "id": "FSBPWhEntfZ2"
      },
      "execution_count": 19,
      "outputs": []
    },
    {
      "cell_type": "code",
      "source": [
        "# สำหรับ k=5, p=0.5\n",
        "result = run_prob(expts=100000, n=100, k=5, p=0.5)\n",
        "print(result)"
      ],
      "metadata": {
        "colab": {
          "base_uri": "https://localhost:8080/"
        },
        "id": "ZrbKQURBwp45",
        "outputId": "cdc87456-d4a0-48a8-f283-972d4ebddb41"
      },
      "execution_count": 17,
      "outputs": [
        {
          "output_type": "stream",
          "name": "stdout",
          "text": [
            "0.8085\n"
          ]
        }
      ]
    },
    {
      "cell_type": "code",
      "source": [
        "# สำหรับ k=7, p=0.7\n",
        "result2 = run_prob(expts=100000, n=100, k=7, p=0.7)\n",
        "print(result2)"
      ],
      "metadata": {
        "colab": {
          "base_uri": "https://localhost:8080/"
        },
        "id": "jCD6TBoQwt1H",
        "outputId": "ca2fc2f4-a561-4734-aefc-4616bb00ace0"
      },
      "execution_count": 18,
      "outputs": [
        {
          "output_type": "stream",
          "name": "stdout",
          "text": [
            "0.9492\n"
          ]
        }
      ]
    }
  ]
}